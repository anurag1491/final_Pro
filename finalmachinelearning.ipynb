{
 "metadata": {
  "name": "",
  "signature": "sha256:af30d1e185075dec17c92503793dc197a40e31264d743d4ae627221176916e03"
 },
 "nbformat": 3,
 "nbformat_minor": 0,
 "worksheets": [
  {
   "cells": [
    {
     "cell_type": "code",
     "collapsed": false,
     "input": [
      "import numpy as np\n",
      "import pandas as pd\n",
      "import datetime\n",
      "from sklearn import cross_validation\n",
      "from sklearn.ensemble import GradientBoostingRegressor"
     ],
     "language": "python",
     "metadata": {},
     "outputs": [],
     "prompt_number": 35
    },
    {
     "cell_type": "code",
     "collapsed": false,
     "input": [
      "def load_data():\n",
      "    train_df = pd.read_csv('train.csv', parse_dates=[0,])\n",
      "    test_df = pd.read_csv('test.csv', parse_dates=[0,])\n",
      "    sub_df = pd.read_csv('sampleSubmission.csv', parse_dates=[0,])\n",
      "\n",
      "    train_df['hour'] = train_df['datetime'].map(lambda d: d.hour).astype(np.int64)\n",
      "    test_df['hour'] = test_df['datetime'].map(lambda d: d.hour).astype(np.int64)\n",
      "    train_df['weekday'] = train_df['datetime'].map(lambda d: d.weekday()).astype(np.int64)\n",
      "    test_df['weekday'] = test_df['datetime'].map(lambda d: d.weekday()).astype(np.int64)\n",
      "    train_df = train_df.drop(labels=['datetime'], axis=1)\n",
      "    test_df = test_df.drop(labels=['datetime'], axis=1)\n",
      "\n",
      "\n",
      "    ytrain = np.log1p(train_df.loc[:,'count'].values)\n",
      "    xtrain = train_df.drop(labels=['casual', 'registered', 'count'], axis=1).values\n",
      "    xtest = test_df.values\n",
      "    ytest = sub_df['datetime'].values\n",
      "\n",
      "    return xtrain, ytrain, xtest, ytest"
     ],
     "language": "python",
     "metadata": {},
     "outputs": [],
     "prompt_number": 36
    },
    {
     "cell_type": "code",
     "collapsed": false,
     "input": [
      "def calculate_rmsle(ypred, yactual):\n",
      "    N = len(yactual)\n",
      "    lsum = 0.0\n",
      "    for i in range(N):\n",
      "        x, y = ypred[i]+1.0, yactual[i]+1.0\n",
      "        if x < 1:\n",
      "            x = 1\n",
      "        lsum += (np.log(x)-np.log(y))**2\n",
      "    lsum /= N\n",
      "\n",
      "    return np.sqrt(lsum)"
     ],
     "language": "python",
     "metadata": {},
     "outputs": [],
     "prompt_number": 37
    },
    {
     "cell_type": "code",
     "collapsed": false,
     "input": [
      "def score_model(model, xtrain, ytrain):\n",
      "    randint = reduce(lambda x,y: x|y, [ord(x)<<(n*8) for (n,x) in enumerate(os.urandom(4))])\n",
      "    xTrain, xTest, yTrain, yTest = cross_validation.train_test_split(xtrain, test_size=0.4, random_state=randint)\n",
      "    model.fit(xTrain, yTrain)\n",
      "    ytest_pred = model.predict(xTest)\n",
      "    return model.score(xTest, yTest)"
     ],
     "language": "python",
     "metadata": {},
     "outputs": [],
     "prompt_number": 38
    },
    {
     "cell_type": "code",
     "collapsed": false,
     "input": [
      "def prepare_submission(model, xtrain, ytrain, xtest, ytest):\n",
      "    model.fit(xtrain, ytrain)\n",
      "    ytest2 = (np.exp(model.predict(xtest))-1).astype(np.int64)\n",
      "    \n",
      "    df = pd.DataFrame({'datetime': ytest, 'count': ytest2}, columns=('datetime','count'))\n",
      "    df.to_csv('result.csv', index=False)\n",
      "\n",
      "    return"
     ],
     "language": "python",
     "metadata": {},
     "outputs": [],
     "prompt_number": 39
    },
    {
     "cell_type": "code",
     "collapsed": false,
     "input": [
      "if __name__ == '__main__':\n",
      "    xtrain, ytrain, xtest, ytest = load_data()\n",
      "\n",
      "    model = GradientBoostingRegressor(loss='ls', verbose=1, max_depth=7, n_estimators=200)\n",
      " \n",
      "    prepare_submission(model, xtrain, ytrain, xtest, ytest)"
     ],
     "language": "python",
     "metadata": {},
     "outputs": [
      {
       "output_type": "stream",
       "stream": "stdout",
       "text": [
        "      Iter       Train Loss   Remaining Time \n",
        "         1           1.6815            5.37s\n",
        "         2           1.4054            5.25s"
       ]
      },
      {
       "output_type": "stream",
       "stream": "stdout",
       "text": [
        "\n",
        "         3           1.1779            5.78s\n",
        "         4           0.9966            5.49s"
       ]
      },
      {
       "output_type": "stream",
       "stream": "stdout",
       "text": [
        "\n",
        "         5           0.8478            5.66s\n",
        "         6           0.7266            5.50s"
       ]
      },
      {
       "output_type": "stream",
       "stream": "stdout",
       "text": [
        "\n",
        "         7           0.6272            5.65s\n",
        "         8           0.5449            5.50s"
       ]
      },
      {
       "output_type": "stream",
       "stream": "stdout",
       "text": [
        "\n",
        "         9           0.4739            5.58s\n",
        "        10           0.4176            5.45s"
       ]
      },
      {
       "output_type": "stream",
       "stream": "stdout",
       "text": [
        "\n",
        "        20           0.1804            4.84s"
       ]
      },
      {
       "output_type": "stream",
       "stream": "stdout",
       "text": [
        "\n",
        "        30           0.1217            4.44s"
       ]
      },
      {
       "output_type": "stream",
       "stream": "stdout",
       "text": [
        "\n",
        "        40           0.1009            4.08s"
       ]
      },
      {
       "output_type": "stream",
       "stream": "stdout",
       "text": [
        "\n",
        "        50           0.0904            3.76s"
       ]
      },
      {
       "output_type": "stream",
       "stream": "stdout",
       "text": [
        "\n",
        "        60           0.0830            3.45s"
       ]
      },
      {
       "output_type": "stream",
       "stream": "stdout",
       "text": [
        "\n",
        "        70           0.0777            3.13s"
       ]
      },
      {
       "output_type": "stream",
       "stream": "stdout",
       "text": [
        "\n",
        "        80           0.0739            2.80s"
       ]
      },
      {
       "output_type": "stream",
       "stream": "stdout",
       "text": [
        "\n",
        "        90           0.0704            2.52s"
       ]
      },
      {
       "output_type": "stream",
       "stream": "stdout",
       "text": [
        "\n",
        "       100           0.0671            2.26s"
       ]
      },
      {
       "output_type": "stream",
       "stream": "stdout",
       "text": [
        "\n",
        "       200           0.0449            0.00s"
       ]
      },
      {
       "output_type": "stream",
       "stream": "stdout",
       "text": [
        "\n"
       ]
      }
     ],
     "prompt_number": 40
    },
    {
     "cell_type": "code",
     "collapsed": false,
     "input": [
      "    from sklearn.cross_validation import cross_val_score\n",
      "    "
     ],
     "language": "python",
     "metadata": {},
     "outputs": [],
     "prompt_number": 32
    },
    {
     "cell_type": "code",
     "collapsed": false,
     "input": [
      "    scores = cross_val_score(model, xtrain, ytrain, cv=5)\n",
      "    print(\"Accuracy:\" , scores.mean())"
     ],
     "language": "python",
     "metadata": {},
     "outputs": [
      {
       "output_type": "stream",
       "stream": "stdout",
       "text": [
        "      Iter       Train Loss   Remaining Time \n",
        "         1           1.5940            6.77s\n",
        "         2           1.3236            5.45s"
       ]
      },
      {
       "output_type": "stream",
       "stream": "stdout",
       "text": [
        "\n",
        "         3           1.1028            5.32s\n",
        "         4           0.9233            5.00s\n",
        "         5           0.7738            4.72s"
       ]
      },
      {
       "output_type": "stream",
       "stream": "stdout",
       "text": [
        "\n",
        "         6           0.6545            4.79s\n",
        "         7           0.5580            4.60s\n",
        "         8           0.4775            4.49s"
       ]
      },
      {
       "output_type": "stream",
       "stream": "stdout",
       "text": [
        "\n",
        "         9           0.4125            4.63s\n",
        "        10           0.3589            4.56s"
       ]
      },
      {
       "output_type": "stream",
       "stream": "stdout",
       "text": [
        "\n",
        "        20           0.1294            4.01s"
       ]
      },
      {
       "output_type": "stream",
       "stream": "stdout",
       "text": [
        "\n",
        "        30           0.0844            3.67s"
       ]
      },
      {
       "output_type": "stream",
       "stream": "stdout",
       "text": [
        "\n",
        "        40           0.0708            3.37s"
       ]
      },
      {
       "output_type": "stream",
       "stream": "stdout",
       "text": [
        "\n",
        "        50           0.0623            3.09s"
       ]
      },
      {
       "output_type": "stream",
       "stream": "stdout",
       "text": [
        "\n",
        "        60           0.0565            2.82s"
       ]
      },
      {
       "output_type": "stream",
       "stream": "stdout",
       "text": [
        "\n",
        "        70           0.0531            2.76s"
       ]
      },
      {
       "output_type": "stream",
       "stream": "stdout",
       "text": [
        "\n",
        "        80           0.0506            2.50s"
       ]
      },
      {
       "output_type": "stream",
       "stream": "stdout",
       "text": [
        "\n",
        "        90           0.0480            2.26s"
       ]
      },
      {
       "output_type": "stream",
       "stream": "stdout",
       "text": [
        "\n",
        "       100           0.0454            2.04s"
       ]
      },
      {
       "output_type": "stream",
       "stream": "stdout",
       "text": [
        "\n",
        "       200           0.0299            0.00s"
       ]
      },
      {
       "output_type": "stream",
       "stream": "stdout",
       "text": [
        "\n",
        "      Iter       Train Loss   Remaining Time \n",
        "         1           1.7399            4.58s\n",
        "         2           1.4564            4.26s"
       ]
      },
      {
       "output_type": "stream",
       "stream": "stdout",
       "text": [
        "\n",
        "         3           1.2273            4.73s\n",
        "         4           1.0391            4.51s\n",
        "         5           0.8864            4.37s"
       ]
      },
      {
       "output_type": "stream",
       "stream": "stdout",
       "text": [
        "\n",
        "         6           0.7580            4.59s\n",
        "         7           0.6525            4.47s\n",
        "         8           0.5687            4.37s"
       ]
      },
      {
       "output_type": "stream",
       "stream": "stdout",
       "text": [
        "\n",
        "         9           0.4977            4.46s\n",
        "        10           0.4394            4.37s\n",
        "        20           0.1843            3.88s"
       ]
      },
      {
       "output_type": "stream",
       "stream": "stdout",
       "text": [
        "\n",
        "        30           0.1189            3.62s"
       ]
      },
      {
       "output_type": "stream",
       "stream": "stdout",
       "text": [
        "\n",
        "        40           0.0967            3.36s"
       ]
      },
      {
       "output_type": "stream",
       "stream": "stdout",
       "text": [
        "\n",
        "        50           0.0850            3.50s"
       ]
      },
      {
       "output_type": "stream",
       "stream": "stdout",
       "text": [
        "\n",
        "        60           0.0775            3.21s"
       ]
      },
      {
       "output_type": "stream",
       "stream": "stdout",
       "text": [
        "\n",
        "        70           0.0739            2.90s"
       ]
      },
      {
       "output_type": "stream",
       "stream": "stdout",
       "text": [
        "\n",
        "        80           0.0705            2.61s"
       ]
      },
      {
       "output_type": "stream",
       "stream": "stdout",
       "text": [
        "\n",
        "        90           0.0662            2.38s"
       ]
      },
      {
       "output_type": "stream",
       "stream": "stdout",
       "text": [
        "\n",
        "       100           0.0629            2.17s"
       ]
      },
      {
       "output_type": "stream",
       "stream": "stdout",
       "text": [
        "\n",
        "       200           0.0397            0.00s"
       ]
      },
      {
       "output_type": "stream",
       "stream": "stdout",
       "text": [
        "\n",
        "      Iter       Train Loss   Remaining Time \n",
        "         1           1.6807            6.37s"
       ]
      },
      {
       "output_type": "stream",
       "stream": "stdout",
       "text": [
        "\n",
        "         2           1.4016            7.43s\n",
        "         3           1.1724            6.44s"
       ]
      },
      {
       "output_type": "stream",
       "stream": "stdout",
       "text": [
        "\n",
        "         4           0.9888            6.57s\n",
        "         5           0.8379            6.83s"
       ]
      },
      {
       "output_type": "stream",
       "stream": "stdout",
       "text": [
        "\n",
        "         6           0.7155            7.15s\n",
        "         7           0.6144            6.92s"
       ]
      },
      {
       "output_type": "stream",
       "stream": "stdout",
       "text": [
        "\n",
        "         8           0.5286            6.94s\n",
        "         9           0.4610            7.02s"
       ]
      },
      {
       "output_type": "stream",
       "stream": "stdout",
       "text": [
        "\n",
        "        10           0.4040            7.18s\n",
        "        20           0.1569            5.49s"
       ]
      },
      {
       "output_type": "stream",
       "stream": "stdout",
       "text": [
        "\n",
        "        30           0.1005            5.00s"
       ]
      },
      {
       "output_type": "stream",
       "stream": "stdout",
       "text": [
        "\n",
        "        40           0.0823            4.52s"
       ]
      },
      {
       "output_type": "stream",
       "stream": "stdout",
       "text": [
        "\n",
        "        50           0.0720            4.07s"
       ]
      },
      {
       "output_type": "stream",
       "stream": "stdout",
       "text": [
        "\n",
        "        60           0.0652            3.63s"
       ]
      },
      {
       "output_type": "stream",
       "stream": "stdout",
       "text": [
        "\n",
        "        70           0.0610            3.26s"
       ]
      },
      {
       "output_type": "stream",
       "stream": "stdout",
       "text": [
        "\n",
        "        80           0.0572            2.96s"
       ]
      },
      {
       "output_type": "stream",
       "stream": "stdout",
       "text": [
        "\n",
        "        90           0.0538            2.71s"
       ]
      },
      {
       "output_type": "stream",
       "stream": "stdout",
       "text": [
        "\n",
        "       100           0.0512            2.45s"
       ]
      },
      {
       "output_type": "stream",
       "stream": "stdout",
       "text": [
        "\n",
        "       200           0.0327            0.00s"
       ]
      },
      {
       "output_type": "stream",
       "stream": "stdout",
       "text": [
        "\n",
        "      Iter       Train Loss   Remaining Time \n",
        "         1           1.6536            7.76s"
       ]
      },
      {
       "output_type": "stream",
       "stream": "stdout",
       "text": [
        "\n",
        "         2           1.3865            7.52s\n",
        "         3           1.1699            7.42s"
       ]
      },
      {
       "output_type": "stream",
       "stream": "stdout",
       "text": [
        "\n",
        "         4           0.9870            7.99s\n",
        "         5           0.8390            7.92s"
       ]
      },
      {
       "output_type": "stream",
       "stream": "stdout",
       "text": [
        "\n",
        "         6           0.7202            8.02s\n",
        "         7           0.6219            7.61s"
       ]
      },
      {
       "output_type": "stream",
       "stream": "stdout",
       "text": [
        "\n",
        "         8           0.5389            7.85s\n",
        "         9           0.4711            7.79s"
       ]
      },
      {
       "output_type": "stream",
       "stream": "stdout",
       "text": [
        "\n",
        "        10           0.4132            7.88s\n",
        "        20           0.1738            7.24s"
       ]
      },
      {
       "output_type": "stream",
       "stream": "stdout",
       "text": [
        "\n",
        "        30           0.1135            5.95s"
       ]
      },
      {
       "output_type": "stream",
       "stream": "stdout",
       "text": [
        "\n",
        "        40           0.0917            5.06s"
       ]
      },
      {
       "output_type": "stream",
       "stream": "stdout",
       "text": [
        "\n",
        "        50           0.0811            4.43s"
       ]
      },
      {
       "output_type": "stream",
       "stream": "stdout",
       "text": [
        "\n",
        "        60           0.0742            3.90s"
       ]
      },
      {
       "output_type": "stream",
       "stream": "stdout",
       "text": [
        "\n",
        "        70           0.0679            3.50s"
       ]
      },
      {
       "output_type": "stream",
       "stream": "stdout",
       "text": [
        "\n",
        "        80           0.0628            3.14s"
       ]
      },
      {
       "output_type": "stream",
       "stream": "stdout",
       "text": [
        "\n",
        "        90           0.0593            2.85s"
       ]
      },
      {
       "output_type": "stream",
       "stream": "stdout",
       "text": [
        "\n",
        "       100           0.0565            2.55s"
       ]
      },
      {
       "output_type": "stream",
       "stream": "stdout",
       "text": [
        "\n",
        "       200           0.0371            0.00s"
       ]
      },
      {
       "output_type": "stream",
       "stream": "stdout",
       "text": [
        "\n",
        "      Iter       Train Loss   Remaining Time \n",
        "         1           1.6737            4.58s\n",
        "         2           1.4028            4.16s"
       ]
      },
      {
       "output_type": "stream",
       "stream": "stdout",
       "text": [
        "\n",
        "         3           1.1767            4.60s\n",
        "         4           0.9948            4.41s\n",
        "         5           0.8450            4.25s"
       ]
      },
      {
       "output_type": "stream",
       "stream": "stdout",
       "text": [
        "\n",
        "         6           0.7222            4.53s\n",
        "         7           0.6213            4.41s"
       ]
      },
      {
       "output_type": "stream",
       "stream": "stdout",
       "text": [
        "\n",
        "         8           0.5398            4.51s\n",
        "         9           0.4721            4.39s\n",
        "        10           0.4163            4.31s"
       ]
      },
      {
       "output_type": "stream",
       "stream": "stdout",
       "text": [
        "\n",
        "        20           0.1741            3.90s"
       ]
      },
      {
       "output_type": "stream",
       "stream": "stdout",
       "text": [
        "\n",
        "        30           0.1140            3.62s"
       ]
      },
      {
       "output_type": "stream",
       "stream": "stdout",
       "text": [
        "\n",
        "        40           0.0937            3.68s"
       ]
      },
      {
       "output_type": "stream",
       "stream": "stdout",
       "text": [
        "\n",
        "        50           0.0823            3.40s"
       ]
      },
      {
       "output_type": "stream",
       "stream": "stdout",
       "text": [
        "\n",
        "        60           0.0761            3.11s"
       ]
      },
      {
       "output_type": "stream",
       "stream": "stdout",
       "text": [
        "\n",
        "        70           0.0711            2.84s"
       ]
      },
      {
       "output_type": "stream",
       "stream": "stdout",
       "text": [
        "\n",
        "        80           0.0683            2.55s"
       ]
      },
      {
       "output_type": "stream",
       "stream": "stdout",
       "text": [
        "\n",
        "        90           0.0646            2.33s"
       ]
      },
      {
       "output_type": "stream",
       "stream": "stdout",
       "text": [
        "\n",
        "       100           0.0612            2.12s"
       ]
      },
      {
       "output_type": "stream",
       "stream": "stdout",
       "text": [
        "\n",
        "       200           0.0391            0.00s"
       ]
      },
      {
       "output_type": "stream",
       "stream": "stdout",
       "text": [
        "\n",
        "('Accuracy:', 0.82748029438391801)\n"
       ]
      }
     ],
     "prompt_number": 34
    },
    {
     "cell_type": "code",
     "collapsed": false,
     "input": [],
     "language": "python",
     "metadata": {},
     "outputs": []
    }
   ],
   "metadata": {}
  }
 ]
}